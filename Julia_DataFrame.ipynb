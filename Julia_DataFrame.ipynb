{
  "nbformat": 4,
  "nbformat_minor": 0,
  "metadata": {
    "colab": {
      "provenance": []
    },
    "kernelspec": {
      "name": "python3",
      "display_name": "Python 3"
    },
    "language_info": {
      "name": "python"
    }
  },
  "cells": [
    {
      "cell_type": "markdown",
      "source": [
        "",
        "\n",
        "\n",
        ""
      ],
      "metadata": {
        "id": "3IGs0ULCY0F3"
      }
    },
    {
      "cell_type": "code",
      "execution_count": 15,
      "metadata": {
        "id": "2wz7JhBDZeva"
      },
      "outputs": [],
      "source": [
        "import pandas as pd"
      ]
    },
    {
      "cell_type": "code",
      "source": [
        "# Criando um dicionário com dados sobre comidas\n",
        "Menu = {\n",
        "    'Comida': ['Pizza', 'Hambúrguer', 'Salada', 'Sushi', 'Taco', 'Sorvete'],\n",
        "    'Tipo': ['Fast Food', 'Fast Food', 'Saudável', 'Japonês', 'Mexicano', 'Sobremesa'],\n",
        "    'Calorias': [266, 295, 152, 200, 226, 207],\n",
        "    'Proteína': [11, 17, 3, 8, 12, 3],\n",
        "    'Gordura': [10, 12, 5, 7, 9, 11]\n",
        "};\n",
        "\n",
        "df_Menu = pd.DataFrame(Menu);"
      ],
      "metadata": {
        "id": "uxPWIKlPkD7g"
      },
      "execution_count": 16,
      "outputs": []
    },
    {
      "cell_type": "code",
      "source": [
        "# df_Menu = pd.DataFrame(data);"
      ],
      "metadata": {
        "id": "1Dw-81gsktXW"
      },
      "execution_count": 17,
      "outputs": []
    },
    {
      "cell_type": "code",
      "source": [
        "# Pergunta 1 - Imprimir base de dados:\n",
        "print(\"1) Base de dados completa:\")\n",
        "print(Menu);"
      ],
      "metadata": {
        "colab": {
          "base_uri": "https://localhost:8080/"
        },
        "id": "WKvygrhwkX5I",
        "outputId": "b7e2ea50-0737-49ea-8f4d-ca01a15eee05"
      },
      "execution_count": 18,
      "outputs": [
        {
          "output_type": "stream",
          "name": "stdout",
          "text": [
            "1) Base de dados completa:\n",
            "{'Comida': ['Pizza', 'Hambúrguer', 'Salada', 'Sushi', 'Taco', 'Sorvete'], 'Tipo': ['Fast Food', 'Fast Food', 'Saudável', 'Japonês', 'Mexicano', 'Sobremesa'], 'Calorias': [266, 295, 152, 200, 226, 207], 'Proteína': [11, 17, 3, 8, 12, 3], 'Gordura': [10, 12, 5, 7, 9, 11]}\n"
          ]
        }
      ]
    },
    {
      "cell_type": "code",
      "source": [
        "# Pergunta 2 - tamanho\n",
        "print(\"2) Tamanho do dataframe:\")\n",
        "print(df_Menu.shape)"
      ],
      "metadata": {
        "colab": {
          "base_uri": "https://localhost:8080/"
        },
        "id": "zvzmRboInsrN",
        "outputId": "1de56259-6118-4f3e-fd9e-7b7363915e4d"
      },
      "execution_count": 19,
      "outputs": [
        {
          "output_type": "stream",
          "name": "stdout",
          "text": [
            "2) Tamanho do dataframe:\n",
            "(6, 5)\n"
          ]
        }
      ]
    },
    {
      "cell_type": "code",
      "source": [
        "# Pergunta 3\n",
        "x = 0 # Substitua pelo valor da linha desejada\n",
        "print(f\"3) Características da linha {1}:\")\n",
        "print(df_Menu.loc[1])"
      ],
      "metadata": {
        "colab": {
          "base_uri": "https://localhost:8080/"
        },
        "id": "Am3Z6QPYobfm",
        "outputId": "ba688b13-2a6e-493b-f330-88f50538c7aa"
      },
      "execution_count": 20,
      "outputs": [
        {
          "output_type": "stream",
          "name": "stdout",
          "text": [
            "3) Características da linha 1:\n",
            "Comida      Hambúrguer\n",
            "Tipo         Fast Food\n",
            "Calorias           295\n",
            "Proteína            17\n",
            "Gordura             12\n",
            "Name: 1, dtype: object\n"
          ]
        }
      ]
    },
    {
      "cell_type": "code",
      "source": [
        "# Pergunta 4\n",
        "print(\"4) Verificação se o dataframe está vazio:\")\n",
        "if df_Menu.empty:\n",
        "    print(\"O dataframe está vazio.\")\n",
        "else:\n",
        "    print(\"O dataframe não está vazio.\")"
      ],
      "metadata": {
        "colab": {
          "base_uri": "https://localhost:8080/"
        },
        "id": "CMuekHv65Ofm",
        "outputId": "23d13dbe-c63c-4627-99ef-8d9cb4b7699e"
      },
      "execution_count": 21,
      "outputs": [
        {
          "output_type": "stream",
          "name": "stdout",
          "text": [
            "4) Verificação se o dataframe está vazio:\n",
            "O dataframe não está vazio.\n"
          ]
        }
      ]
    },
    {
      "cell_type": "code",
      "source": [
        "# Pergunta 5 - Apresente em tela os 5 primeiros registros da base de dados.\n",
        "print(\"5) Primeiros 5 registros:\")\n",
        "print(df_Menu.head(5))"
      ],
      "metadata": {
        "colab": {
          "base_uri": "https://localhost:8080/"
        },
        "id": "x_vlutkb4-NB",
        "outputId": "0f7e6a27-ef52-4b91-adec-1443dad74277"
      },
      "execution_count": 22,
      "outputs": [
        {
          "output_type": "stream",
          "name": "stdout",
          "text": [
            "5) Primeiros 5 registros:\n",
            "       Comida       Tipo  Calorias  Proteína  Gordura\n",
            "0       Pizza  Fast Food       266        11       10\n",
            "1  Hambúrguer  Fast Food       295        17       12\n",
            "2      Salada   Saudável       152         3        5\n",
            "3       Sushi    Japonês       200         8        7\n",
            "4        Taco   Mexicano       226        12        9\n"
          ]
        }
      ]
    },
    {
      "cell_type": "code",
      "source": [
        "# Pergunta 6 - Realize a exclusão de uma linha\n",
        "df_Menu = df_Menu.drop(3)"
      ],
      "metadata": {
        "id": "07cxoBP75MTI"
      },
      "execution_count": 23,
      "outputs": []
    },
    {
      "cell_type": "code",
      "source": [
        "print(Menu)\n",
        "display(Menu)"
      ],
      "metadata": {
        "colab": {
          "base_uri": "https://localhost:8080/",
          "height": 228
        },
        "id": "cWMo-lO56YJu",
        "outputId": "713f0939-3b7f-4c42-dbed-058e8fb60870"
      },
      "execution_count": 24,
      "outputs": [
        {
          "output_type": "stream",
          "name": "stdout",
          "text": [
            "{'Comida': ['Pizza', 'Hambúrguer', 'Salada', 'Sushi', 'Taco', 'Sorvete'], 'Tipo': ['Fast Food', 'Fast Food', 'Saudável', 'Japonês', 'Mexicano', 'Sobremesa'], 'Calorias': [266, 295, 152, 200, 226, 207], 'Proteína': [11, 17, 3, 8, 12, 3], 'Gordura': [10, 12, 5, 7, 9, 11]}\n"
          ]
        },
        {
          "output_type": "display_data",
          "data": {
            "text/plain": [
              "{'Comida': ['Pizza', 'Hambúrguer', 'Salada', 'Sushi', 'Taco', 'Sorvete'],\n",
              " 'Tipo': ['Fast Food',\n",
              "  'Fast Food',\n",
              "  'Saudável',\n",
              "  'Japonês',\n",
              "  'Mexicano',\n",
              "  'Sobremesa'],\n",
              " 'Calorias': [266, 295, 152, 200, 226, 207],\n",
              " 'Proteína': [11, 17, 3, 8, 12, 3],\n",
              " 'Gordura': [10, 12, 5, 7, 9, 11]}"
            ]
          },
          "metadata": {}
        }
      ]
    },
    {
      "cell_type": "code",
      "source": [
        "# Pergunta 7 - Realize a adição de uma linha\n",
        "Preco_medio = {'Comida': \"pao de queijo\", 'Tipo': \"mineira\", 'Calorias': 157, 'Proteína': 2, 'Gordura': 5,}\n",
        "df_Menu.loc[len(df_Menu)] = Preco_medio\n",
        "print(df_Menu)"
      ],
      "metadata": {
        "colab": {
          "base_uri": "https://localhost:8080/"
        },
        "id": "FNPvOwhK6sN9",
        "outputId": "e3fa5a79-9877-4a71-dd1b-b8de15cdebb0"
      },
      "execution_count": 25,
      "outputs": [
        {
          "output_type": "stream",
          "name": "stdout",
          "text": [
            "          Comida       Tipo  Calorias  Proteína  Gordura\n",
            "0          Pizza  Fast Food       266        11       10\n",
            "1     Hambúrguer  Fast Food       295        17       12\n",
            "2         Salada   Saudável       152         3        5\n",
            "4           Taco   Mexicano       226        12        9\n",
            "5  pao de queijo    mineira       157         2        5\n"
          ]
        }
      ]
    },
    {
      "cell_type": "code",
      "source": [
        "# Pergunta 8 - Transponha a coluna para a linha em sua base de dados.\n",
        "dataframe_transposed = df_Menu.T\n",
        "print(\"8) Transposição da coluna para a linha:\")\n",
        "print(dataframe_transposed)\n",
        "df_Menu = df_Menu.transpose()"
      ],
      "metadata": {
        "colab": {
          "base_uri": "https://localhost:8080/"
        },
        "id": "mieVbuXz7yIg",
        "outputId": "93a3d618-bfb6-42ff-d261-5a1a9b2d04d4"
      },
      "execution_count": 26,
      "outputs": [
        {
          "output_type": "stream",
          "name": "stdout",
          "text": [
            "8) Transposição da coluna para a linha:\n",
            "                  0           1         2         4              5\n",
            "Comida        Pizza  Hambúrguer    Salada      Taco  pao de queijo\n",
            "Tipo      Fast Food   Fast Food  Saudável  Mexicano        mineira\n",
            "Calorias        266         295       152       226            157\n",
            "Proteína         11          17         3        12              2\n",
            "Gordura          10          12         5         9              5\n"
          ]
        }
      ]
    },
    {
      "cell_type": "code",
      "source": [
        "# Pergunta 9 - Apresente em tela somente a 1ª e a 2ª coluna (rótulo) da base de dados.\n",
        "print(\"9) 1ª e 2ª coluna:\")\n",
        "print(df_Menu.iloc[:, :2])\n",
        "print(df_Menu.iloc[:, 0:2])"
      ],
      "metadata": {
        "colab": {
          "base_uri": "https://localhost:8080/"
        },
        "id": "wl1yHsc59l3F",
        "outputId": "e82b28e6-1b10-4da4-c964-364f00dde16a"
      },
      "execution_count": 27,
      "outputs": [
        {
          "output_type": "stream",
          "name": "stdout",
          "text": [
            "9) 1ª e 2ª coluna:\n",
            "                  0           1\n",
            "Comida        Pizza  Hambúrguer\n",
            "Tipo      Fast Food   Fast Food\n",
            "Calorias        266         295\n",
            "Proteína         11          17\n",
            "Gordura          10          12\n",
            "                  0           1\n",
            "Comida        Pizza  Hambúrguer\n",
            "Tipo      Fast Food   Fast Food\n",
            "Calorias        266         295\n",
            "Proteína         11          17\n",
            "Gordura          10          12\n"
          ]
        }
      ]
    }
  ]
}
